{
 "cells": [
  {
   "cell_type": "code",
   "execution_count": 3,
   "id": "5d9dd384",
   "metadata": {},
   "outputs": [
    {
     "name": "stdout",
     "output_type": "stream",
     "text": [
      "0.11558022260070289\n"
     ]
    }
   ],
   "source": [
    "import numpy as np\n",
    "\n",
    "p_vals = np.load(\"p_collection.npy\")\n",
    "print(min(p_vals))"
   ]
  },
  {
   "cell_type": "code",
   "execution_count": 5,
   "id": "b344f9ae",
   "metadata": {},
   "outputs": [
    {
     "name": "stdout",
     "output_type": "stream",
     "text": [
      "1.3766057294084533e-08\n"
     ]
    }
   ],
   "source": [
    "import numpy as np\n",
    "\n",
    "p_vals = np.load(\"p_collection_withB2.npy\")\n",
    "print(max(p_vals))"
   ]
  },
  {
   "cell_type": "code",
   "execution_count": null,
   "id": "13076566",
   "metadata": {},
   "outputs": [],
   "source": []
  }
 ],
 "metadata": {
  "kernelspec": {
   "display_name": "Python 3 (ipykernel)",
   "language": "python",
   "name": "python3"
  },
  "language_info": {
   "codemirror_mode": {
    "name": "ipython",
    "version": 3
   },
   "file_extension": ".py",
   "mimetype": "text/x-python",
   "name": "python",
   "nbconvert_exporter": "python",
   "pygments_lexer": "ipython3",
   "version": "3.9.7"
  }
 },
 "nbformat": 4,
 "nbformat_minor": 5
}
