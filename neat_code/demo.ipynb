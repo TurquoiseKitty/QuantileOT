{
 "cells": [
  {
   "cell_type": "code",
   "execution_count": 3,
   "id": "5d9dd384",
   "metadata": {},
   "outputs": [
    {
     "name": "stdout",
     "output_type": "stream",
     "text": [
      "0.11558022260070289\n"
     ]
    }
   ],
   "source": [
    "import numpy as np\n",
    "\n",
    "p_vals = np.load(\"p_collection.npy\")\n",
    "print(min(p_vals))"
   ]
  },
  {
   "cell_type": "code",
   "execution_count": 2,
   "id": "b344f9ae",
   "metadata": {},
   "outputs": [
    {
     "name": "stdout",
     "output_type": "stream",
     "text": [
      "10\n"
     ]
    }
   ],
   "source": [
    "import numpy as np\n",
    "\n",
    "p_vals = np.load(\"p_collection_withB2.npy\")\n",
    "print(len(p_vals[p_vals < 0.05]))"
   ]
  },
  {
   "cell_type": "code",
   "execution_count": 4,
   "id": "13076566",
   "metadata": {},
   "outputs": [
    {
     "name": "stdout",
     "output_type": "stream",
     "text": [
      "26\n"
     ]
    }
   ],
   "source": [
    "p_vals = np.load(\"p_collection_withB2_reg2.npy\")\n",
    "print(len(p_vals[p_vals < 0.05]))"
   ]
  },
  {
   "cell_type": "code",
   "execution_count": null,
   "id": "f17e4416",
   "metadata": {},
   "outputs": [],
   "source": []
  }
 ],
 "metadata": {
  "kernelspec": {
   "display_name": "Python 3 (ipykernel)",
   "language": "python",
   "name": "python3"
  },
  "language_info": {
   "codemirror_mode": {
    "name": "ipython",
    "version": 3
   },
   "file_extension": ".py",
   "mimetype": "text/x-python",
   "name": "python",
   "nbconvert_exporter": "python",
   "pygments_lexer": "ipython3",
   "version": "3.9.7"
  }
 },
 "nbformat": 4,
 "nbformat_minor": 5
}
