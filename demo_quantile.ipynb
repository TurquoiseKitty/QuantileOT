{
 "cells": [
  {
   "cell_type": "markdown",
   "id": "2a5057d0",
   "metadata": {},
   "source": [
    "## 从单变量情形开始，探究LP方法的效果，及Optimal Transport方法的实现"
   ]
  },
  {
   "cell_type": "markdown",
   "id": "578ed0dc",
   "metadata": {},
   "source": [
    "模型设计：\n",
    "\n",
    "X[1]=1\n",
    "\n",
    "X[2] = Uniform(0,1)\n",
    "\n",
    "Y=X[2]+X[2]*Uniform(0,1)+7\n",
    "\n",
    "Q_Y(t)=7 X[1]+(1+t)X[2]"
   ]
  },
  {
   "cell_type": "markdown",
   "id": "d52c145a",
   "metadata": {},
   "source": [
    "## 对每一个分位数t，都进行一次计算，观察效果。也就是，不考虑单调性约束。"
   ]
  },
  {
   "cell_type": "code",
   "execution_count": 2,
   "id": "10354c3c",
   "metadata": {},
   "outputs": [
    {
     "data": {
      "text/plain": [
       "[<matplotlib.lines.Line2D at 0x1df28d5f310>]"
      ]
     },
     "execution_count": 2,
     "metadata": {},
     "output_type": "execute_result"
    },
    {
     "data": {
      "image/png": "[encoded data removed]",
      "text/plain": [
       "<Figure size 432x288 with 1 Axes>"
      ]
     },
     "metadata": {
      "needs_background": "light"
     },
     "output_type": "display_data"
    }
   ],
   "source": [
    "import numpy as np\n",
    "from mip import Model, xsum, minimize, maximize, OptimizationStatus\n",
    "from numpy.polynomial.polynomial import polyfit\n",
    "import matplotlib.pyplot as plt\n",
    "\n",
    "SAMPLE_AMOUNT = 1000\n",
    "X2 = np.random.uniform(0,1,SAMPLE_AMOUNT)\n",
    "\n",
    "EPSILON = np.random.uniform(0,1,SAMPLE_AMOUNT)\n",
    "\n",
    "Y = X2 + X2 * EPSILON + 7\n",
    "\n",
    "plt.plot(X2,Y,'.')"
   ]
  },
  {
   "cell_type": "code",
   "execution_count": 2,
   "id": "6befb05c",
   "metadata": {},
   "outputs": [
    {
     "name": "stdout",
     "output_type": "stream",
     "text": [
      "beta 1 :6.995697058462757\n",
      "beta 2 :1.4215383467458147\n"
     ]
    }
   ],
   "source": [
    "def para_solver(t):\n",
    "    m = Model()\n",
    "    \n",
    "    beta = [m.add_var(name = \"beta\") for i in range(2)]\n",
    "    \n",
    "    epsilon_pos = [m.add_var(lb=0) for i in range(SAMPLE_AMOUNT)]\n",
    "    \n",
    "    epsilon_neg = [m.add_var(lb=0) for i in range(SAMPLE_AMOUNT)]\n",
    "    \n",
    "    for i in range(SAMPLE_AMOUNT):\n",
    "        m += epsilon_pos[i] - epsilon_neg[i] - Y[i] + beta[0] + X2[i]*beta[1] == 0\n",
    "        \n",
    "    m.objective = minimize(xsum( t * epsilon_pos[i] + (1-t) * epsilon_neg[i] for i in range(SAMPLE_AMOUNT)))\n",
    "    \n",
    "    status = m.optimize(max_seconds=300)\n",
    "    \n",
    "    if not status == OptimizationStatus.OPTIMAL:\n",
    "        print(\"SOMETHING WRONG!\")\n",
    "        \n",
    "    else:\n",
    "        count = 1\n",
    "        for v in m.vars: \n",
    "            if v.name == \"beta\":\n",
    "                print(\"beta \"+str(count)+\" :\"+str(v.x))\n",
    "                count += 1\n",
    "    return m\n",
    "                \n",
    "solved_model = para_solver(0.4)\n",
    "   \n",
    "    \n",
    "    "
   ]
  },
  {
   "cell_type": "markdown",
   "id": "f98d0bb6",
   "metadata": {},
   "source": [
    "## 看起来还是蛮准确的，但是这里我们更加关心对偶程序的解，a，及统计量rank score, 所以这就需要重新设计模型了"
   ]
  },
  {
   "cell_type": "markdown",
   "id": "ba16d384",
   "metadata": {},
   "source": [
    "模型设计：\n",
    "\n",
    "X[1]=1\n",
    "\n",
    "X[2] = Uniform(0,1)\n",
    "\n",
    "X[3] = Normal(0,1)\n",
    "\n",
    "X[4] = 1/Sqrt[2] X[3] + 1/Sqrt[2] Normal(0,1)\n",
    "\n",
    "Y= 3 + 5 X[2] +  Normal(0,1)\n",
    "\n",
    "phi(t) = t^2, A(phi)^2 = 4/45\n",
    "\n",
    "既然模型下H0假设(beta[3]=beta[4]=0)成立，我们希望验证rank score的行为是否符合预期"
   ]
  },
  {
   "cell_type": "markdown",
   "id": "9f9a695d",
   "metadata": {},
   "source": [
    "考虑进行1000次实验\n",
    "\n",
    "每次实验，生成2000个样本，并均匀选取50个t水平，在每个t水平下计算对偶变量a，这样就可以算出目标统计量。我们来看这100个样本是不是大概是 chi_2^2的分布"
   ]
  },
  {
   "cell_type": "code",
   "execution_count": 6,
   "id": "b765c68d",
   "metadata": {},
   "outputs": [
    {
     "name": "stdout",
     "output_type": "stream",
     "text": [
      "experiment  9\n",
      "experiment  19\n",
      "experiment  29\n",
      "experiment  39\n",
      "experiment  49\n",
      "experiment  59\n",
      "experiment  69\n",
      "experiment  79\n",
      "experiment  89\n",
      "experiment  99\n",
      "experiment  109\n",
      "experiment  119\n",
      "experiment  129\n",
      "experiment  139\n",
      "experiment  149\n",
      "experiment  159\n",
      "experiment  169\n",
      "experiment  179\n",
      "experiment  189\n",
      "experiment  199\n",
      "experiment  209\n",
      "experiment  219\n",
      "experiment  229\n",
      "experiment  239\n",
      "experiment  249\n",
      "experiment  259\n",
      "experiment  269\n",
      "experiment  279\n",
      "experiment  289\n",
      "experiment  299\n",
      "experiment  309\n",
      "experiment  319\n",
      "experiment  329\n",
      "experiment  339\n",
      "experiment  349\n",
      "experiment  359\n",
      "experiment  369\n",
      "experiment  379\n",
      "experiment  389\n",
      "experiment  399\n",
      "experiment  409\n",
      "experiment  419\n",
      "experiment  429\n",
      "experiment  439\n",
      "experiment  449\n",
      "experiment  459\n",
      "experiment  469\n",
      "experiment  479\n",
      "experiment  489\n",
      "experiment  499\n",
      "experiment  509\n",
      "experiment  519\n",
      "experiment  529\n",
      "experiment  539\n",
      "experiment  549\n",
      "experiment  559\n",
      "experiment  569\n",
      "experiment  579\n",
      "experiment  589\n",
      "experiment  599\n",
      "experiment  609\n",
      "experiment  619\n",
      "experiment  629\n",
      "experiment  639\n",
      "experiment  649\n",
      "experiment  659\n",
      "experiment  669\n",
      "experiment  679\n",
      "experiment  689\n",
      "experiment  699\n",
      "experiment  709\n",
      "experiment  719\n",
      "experiment  729\n",
      "experiment  739\n",
      "experiment  749\n",
      "experiment  759\n",
      "experiment  769\n",
      "experiment  779\n",
      "experiment  789\n",
      "experiment  799\n",
      "experiment  809\n",
      "experiment  819\n",
      "experiment  829\n",
      "experiment  839\n",
      "experiment  849\n",
      "experiment  859\n",
      "experiment  869\n",
      "experiment  879\n",
      "experiment  889\n",
      "experiment  899\n",
      "experiment  909\n",
      "experiment  919\n",
      "experiment  929\n",
      "experiment  939\n",
      "experiment  949\n",
      "experiment  959\n",
      "experiment  969\n",
      "experiment  979\n",
      "experiment  989\n",
      "experiment  999\n"
     ]
    }
   ],
   "source": [
    "from numpy.linalg import inv\n",
    "import time\n",
    "\n",
    "EXP_TIMES = 1000\n",
    "TIME_LEVELS = 50\n",
    "SAMPLE_AMOUNT = 2000\n",
    "\n",
    "collection = np.zeros(EXP_TIMES)\n",
    "\n",
    "start_time = time.time()\n",
    "batch = 0\n",
    "for exp in range(EXP_TIMES):\n",
    "    # generate\n",
    "    X2 = np.random.uniform(0,1,SAMPLE_AMOUNT)\n",
    "    X3 = np.random.normal(0,1,SAMPLE_AMOUNT)\n",
    "    \n",
    "    X4_aid = np.random.normal(0,1,SAMPLE_AMOUNT)\n",
    "    X4 = 1/np.sqrt(2) * X3 + 1/np.sqrt(2) * X4_aid\n",
    "    \n",
    "    X_3and4 = np.column_stack((X3, X4))\n",
    "    \n",
    "    EPSI = np.random.normal(0,1,SAMPLE_AMOUNT)\n",
    "    \n",
    "    Y = 3 + 5*X2 + EPSI\n",
    "    \n",
    "    A = 4/45\n",
    "    \n",
    "    Q = 1/SAMPLE_AMOUNT * np.matmul(X_3and4.T,X_3and4)\n",
    "    \n",
    "    dual_data = np.zeros((TIME_LEVELS,SAMPLE_AMOUNT))\n",
    "    \n",
    "    for t in range(1,TIME_LEVELS+1):\n",
    "        quantile = t / TIME_LEVELS\n",
    "        \n",
    "        # calculate dual\n",
    "        \n",
    "        a_s = np.zeros(SAMPLE_AMOUNT)\n",
    "        \n",
    "        \n",
    "        m = Model()\n",
    "    \n",
    "        a = [m.add_var(lb=0,ub=1,name=\"a\") for i in range(SAMPLE_AMOUNT)]\n",
    "    \n",
    "        m += xsum(a[i] for i in range(SAMPLE_AMOUNT)) == (1-quantile)*SAMPLE_AMOUNT\n",
    "        m += xsum(a[i]*X2[i] for i in range(SAMPLE_AMOUNT)) == (1-quantile)*xsum(X2[i] for i in range(SAMPLE_AMOUNT))\n",
    "        m += xsum(a[i]*X3[i] for i in range(SAMPLE_AMOUNT)) == (1-quantile)*xsum(X3[i] for i in range(SAMPLE_AMOUNT))\n",
    "        m += xsum(a[i]*X4[i] for i in range(SAMPLE_AMOUNT)) == (1-quantile)*xsum(X4[i] for i in range(SAMPLE_AMOUNT))\n",
    "         \n",
    "        m.objective = maximize(xsum(Y[i] * a[i] for i in range(SAMPLE_AMOUNT)))\n",
    "    \n",
    "        status = m.optimize(max_seconds=300)\n",
    "        \n",
    "        if not status == OptimizationStatus.OPTIMAL:\n",
    "            print(\"SOMETHING WRONG!\")\n",
    "            quit()\n",
    "\n",
    "        else:\n",
    "            count = 0\n",
    "            for v in m.vars: \n",
    "                dual_data[t-1][count] = v.x\n",
    "                count += 1\n",
    "    \n",
    "    # calculate target statistics\n",
    "    b=0\n",
    "    for t in range(1,TIME_LEVELS):\n",
    "        b +=  (t/TIME_LEVELS)**2 * (dual_data[t] - dual_data[t-1])\n",
    "        \n",
    "        \n",
    "        \n",
    "    S = 1/np.sqrt(SAMPLE_AMOUNT) * np.matmul(X_3and4.T,b)\n",
    "    \n",
    "    T_STAT = np.matmul(np.matmul(S.T,inv(Q)),S)/A\n",
    "    \n",
    "    collection[exp] = T_STAT\n",
    "    \n",
    "    batch += 1\n",
    "    \n",
    "    if batch == 10:\n",
    "        print(\"experiment \",exp)\n",
    "        batch = 0\n",
    "    \n",
    "\n"
   ]
  },
  {
   "cell_type": "code",
   "execution_count": 8,
   "id": "ac0bc357",
   "metadata": {},
   "outputs": [
    {
     "data": {
      "image/png": "[encoded data removed]",
      "text/plain": [
       "<Figure size 432x288 with 1 Axes>"
      ]
     },
     "metadata": {
      "needs_background": "light"
     },
     "output_type": "display_data"
    }
   ],
   "source": [
    "from scipy.stats import chi2\n",
    "\n",
    "#x-axis ranges from 0 to 20 with .001 steps\n",
    "x = np.arange(0, 20, 0.001)\n",
    "\n",
    "#plot Chi-square distribution with 4 degrees of freedom\n",
    "plt.plot(x, chi2.pdf(x, df=2))\n",
    "\n",
    "plt.hist(collection, density=True, bins=50)\n",
    "\n",
    "plt.show()"
   ]
  },
  {
   "cell_type": "markdown",
   "id": "d93a1bfc",
   "metadata": {},
   "source": [
    "## 看起来rank score的渐进长得也蛮像chi_2^2的，下面考虑加入单调性约束。也就是说，通过optimal transport的方法来求出密度pi，积分得到单调性约束下每个t对应的a，再计算rank score，然后再看看这个score是不是也有好的渐进性质呢？我们沿用上面的模型"
   ]
  },
  {
   "cell_type": "code",
   "execution_count": 2,
   "id": "7793daee",
   "metadata": {},
   "outputs": [
    {
     "name": "stdout",
     "output_type": "stream",
     "text": [
      "32.36323595046997\n",
      "0.359038615100756\n",
      "61.59457850456238\n",
      "8.460163166602133\n"
     ]
    },
    {
     "ename": "KeyboardInterrupt",
     "evalue": "",
     "output_type": "error",
     "traceback": [
      "\u001b[1;31m---------------------------------------------------------------------------\u001b[0m",
      "\u001b[1;31mKeyboardInterrupt\u001b[0m                         Traceback (most recent call last)",
      "\u001b[1;32m~\\AppData\\Local\\Temp/ipykernel_31740/1208152111.py\u001b[0m in \u001b[0;36m<module>\u001b[1;34m\u001b[0m\n\u001b[0;32m     50\u001b[0m     \u001b[0mm\u001b[0m\u001b[1;33m.\u001b[0m\u001b[0mobjective\u001b[0m \u001b[1;33m=\u001b[0m \u001b[0mmaximize\u001b[0m\u001b[1;33m(\u001b[0m\u001b[0mxsum\u001b[0m\u001b[1;33m(\u001b[0m\u001b[0mxsum\u001b[0m\u001b[1;33m(\u001b[0m\u001b[0mt\u001b[0m\u001b[1;33m/\u001b[0m\u001b[0mTIME_LEVELS\u001b[0m \u001b[1;33m*\u001b[0m \u001b[0mY\u001b[0m\u001b[1;33m[\u001b[0m\u001b[0mi\u001b[0m\u001b[1;33m]\u001b[0m \u001b[1;33m*\u001b[0m \u001b[0mpi\u001b[0m\u001b[1;33m[\u001b[0m\u001b[0mt\u001b[0m\u001b[1;33m-\u001b[0m\u001b[1;36m1\u001b[0m\u001b[1;33m]\u001b[0m\u001b[1;33m[\u001b[0m\u001b[0mi\u001b[0m\u001b[1;33m]\u001b[0m \u001b[1;32mfor\u001b[0m \u001b[0mi\u001b[0m \u001b[1;32min\u001b[0m \u001b[0mrange\u001b[0m\u001b[1;33m(\u001b[0m\u001b[0mSAMPLE_AMOUNT\u001b[0m\u001b[1;33m)\u001b[0m\u001b[1;33m)\u001b[0m \u001b[1;32mfor\u001b[0m \u001b[0mt\u001b[0m \u001b[1;32min\u001b[0m \u001b[0mrange\u001b[0m\u001b[1;33m(\u001b[0m\u001b[1;36m1\u001b[0m\u001b[1;33m,\u001b[0m\u001b[0mTIME_LEVELS\u001b[0m\u001b[1;33m+\u001b[0m\u001b[1;36m1\u001b[0m\u001b[1;33m)\u001b[0m\u001b[1;33m)\u001b[0m\u001b[1;33m)\u001b[0m\u001b[1;33m\u001b[0m\u001b[1;33m\u001b[0m\u001b[0m\n\u001b[0;32m     51\u001b[0m \u001b[1;33m\u001b[0m\u001b[0m\n\u001b[1;32m---> 52\u001b[1;33m     \u001b[0mstatus\u001b[0m \u001b[1;33m=\u001b[0m \u001b[0mm\u001b[0m\u001b[1;33m.\u001b[0m\u001b[0moptimize\u001b[0m\u001b[1;33m(\u001b[0m\u001b[0mmax_seconds\u001b[0m\u001b[1;33m=\u001b[0m\u001b[1;36m300\u001b[0m\u001b[1;33m)\u001b[0m\u001b[1;33m\u001b[0m\u001b[1;33m\u001b[0m\u001b[0m\n\u001b[0m\u001b[0;32m     53\u001b[0m     \u001b[1;32mif\u001b[0m \u001b[1;32mnot\u001b[0m \u001b[0mstatus\u001b[0m \u001b[1;33m==\u001b[0m \u001b[0mOptimizationStatus\u001b[0m\u001b[1;33m.\u001b[0m\u001b[0mOPTIMAL\u001b[0m\u001b[1;33m:\u001b[0m\u001b[1;33m\u001b[0m\u001b[1;33m\u001b[0m\u001b[0m\n\u001b[0;32m     54\u001b[0m         \u001b[0mprint\u001b[0m\u001b[1;33m(\u001b[0m\u001b[1;34m\"SOMETHING WRONG!\"\u001b[0m\u001b[1;33m)\u001b[0m\u001b[1;33m\u001b[0m\u001b[1;33m\u001b[0m\u001b[0m\n",
      "\u001b[1;32mD:\\SOFTWARE\\ANACONDA\\lib\\site-packages\\mip\\model.py\u001b[0m in \u001b[0;36moptimize\u001b[1;34m(self, max_seconds, max_nodes, max_solutions, max_seconds_same_incumbent, max_nodes_same_incumbent, relax)\u001b[0m\n\u001b[0;32m    616\u001b[0m         )\n\u001b[0;32m    617\u001b[0m \u001b[1;33m\u001b[0m\u001b[0m\n\u001b[1;32m--> 618\u001b[1;33m         \u001b[0mself\u001b[0m\u001b[1;33m.\u001b[0m\u001b[0m_status\u001b[0m \u001b[1;33m=\u001b[0m \u001b[0mself\u001b[0m\u001b[1;33m.\u001b[0m\u001b[0msolver\u001b[0m\u001b[1;33m.\u001b[0m\u001b[0moptimize\u001b[0m\u001b[1;33m(\u001b[0m\u001b[0mrelax\u001b[0m\u001b[1;33m)\u001b[0m\u001b[1;33m\u001b[0m\u001b[1;33m\u001b[0m\u001b[0m\n\u001b[0m\u001b[0;32m    619\u001b[0m         \u001b[1;31m# has a solution and is a MIP\u001b[0m\u001b[1;33m\u001b[0m\u001b[1;33m\u001b[0m\u001b[0m\n\u001b[0;32m    620\u001b[0m         \u001b[1;32mif\u001b[0m \u001b[0mself\u001b[0m\u001b[1;33m.\u001b[0m\u001b[0mnum_solutions\u001b[0m \u001b[1;32mand\u001b[0m \u001b[0mself\u001b[0m\u001b[1;33m.\u001b[0m\u001b[0mnum_int\u001b[0m \u001b[1;33m>\u001b[0m \u001b[1;36m0\u001b[0m\u001b[1;33m:\u001b[0m\u001b[1;33m\u001b[0m\u001b[1;33m\u001b[0m\u001b[0m\n",
      "\u001b[1;32mD:\\SOFTWARE\\ANACONDA\\lib\\site-packages\\mip\\cbc.py\u001b[0m in \u001b[0;36moptimize\u001b[1;34m(self, relax)\u001b[0m\n\u001b[0;32m   1219\u001b[0m \u001b[1;33m\u001b[0m\u001b[0m\n\u001b[0;32m   1220\u001b[0m         \u001b[0mself\u001b[0m\u001b[1;33m.\u001b[0m\u001b[0m__clear_sol\u001b[0m\u001b[1;33m(\u001b[0m\u001b[1;33m)\u001b[0m\u001b[1;33m\u001b[0m\u001b[1;33m\u001b[0m\u001b[0m\n\u001b[1;32m-> 1221\u001b[1;33m         \u001b[0mcbclib\u001b[0m\u001b[1;33m.\u001b[0m\u001b[0mCbc_solve\u001b[0m\u001b[1;33m(\u001b[0m\u001b[0mself\u001b[0m\u001b[1;33m.\u001b[0m\u001b[0m_model\u001b[0m\u001b[1;33m)\u001b[0m\u001b[1;33m\u001b[0m\u001b[1;33m\u001b[0m\u001b[0m\n\u001b[0m\u001b[0;32m   1222\u001b[0m \u001b[1;33m\u001b[0m\u001b[0m\n\u001b[0;32m   1223\u001b[0m         \u001b[1;32mif\u001b[0m \u001b[0mcbclib\u001b[0m\u001b[1;33m.\u001b[0m\u001b[0mCbc_isAbandoned\u001b[0m\u001b[1;33m(\u001b[0m\u001b[0mself\u001b[0m\u001b[1;33m.\u001b[0m\u001b[0m_model\u001b[0m\u001b[1;33m)\u001b[0m\u001b[1;33m:\u001b[0m\u001b[1;33m\u001b[0m\u001b[1;33m\u001b[0m\u001b[0m\n",
      "\u001b[1;31mKeyboardInterrupt\u001b[0m: "
     ]
    }
   ],
   "source": [
    "import numpy as np\n",
    "from mip import Model, xsum, minimize, maximize, OptimizationStatus\n",
    "from numpy.polynomial.polynomial import polyfit\n",
    "import matplotlib.pyplot as plt\n",
    "from numpy.linalg import inv\n",
    "import time\n",
    "\n",
    "EXP_TIMES = 10\n",
    "TIME_LEVELS = 50\n",
    "SAMPLE_AMOUNT = 2000\n",
    "\n",
    "collection = np.zeros(EXP_TIMES)\n",
    "\n",
    "start_time = time.time()\n",
    "batch = 0\n",
    "for exp in range(EXP_TIMES):\n",
    "    # generate\n",
    "    X2 = np.random.uniform(0,1,SAMPLE_AMOUNT)\n",
    "    X3 = np.random.normal(0,1,SAMPLE_AMOUNT)\n",
    "    \n",
    "    X4_aid = np.random.normal(0,1,SAMPLE_AMOUNT)\n",
    "    X4 = 1/np.sqrt(2) * X3 + 1/np.sqrt(2) * X4_aid\n",
    "    \n",
    "    X_3and4 = np.column_stack((X3, X4))\n",
    "    \n",
    "    EPSI = np.random.normal(0,1,SAMPLE_AMOUNT)\n",
    "    \n",
    "    Y = 3 + 5*X2 + EPSI\n",
    "    \n",
    "    A = 4/45\n",
    "    \n",
    "    Q = 1/SAMPLE_AMOUNT * np.matmul(X_3and4.T,X_3and4)\n",
    "    \n",
    "    dual_density = np.zeros((TIME_LEVELS,SAMPLE_AMOUNT))\n",
    "    \n",
    "    \n",
    "    m = Model()\n",
    "    \n",
    "    pi = [[m.add_var(lb=0,name=\"pi\") for i in range(SAMPLE_AMOUNT)] for t in range(TIME_LEVELS)]\n",
    "    \n",
    "    for t in range(TIME_LEVELS):\n",
    "        m += xsum(pi[t][i] for i in range(SAMPLE_AMOUNT)) == SAMPLE_AMOUNT/TIME_LEVELS\n",
    "        m += xsum(pi[t][i]*X2[i] for i in range(SAMPLE_AMOUNT)) == xsum(X2[i] for i in range(SAMPLE_AMOUNT))/TIME_LEVELS\n",
    "        m += xsum(pi[t][i]*X3[i] for i in range(SAMPLE_AMOUNT)) == xsum(X3[i] for i in range(SAMPLE_AMOUNT))/TIME_LEVELS\n",
    "        m += xsum(pi[t][i]*X4[i] for i in range(SAMPLE_AMOUNT)) == xsum(X4[i] for i in range(SAMPLE_AMOUNT))/TIME_LEVELS\n",
    "   \n",
    "    for n in range(SAMPLE_AMOUNT):\n",
    "        m += xsum(pi[t][n] for t in range(TIME_LEVELS)) == 1\n",
    "        \n",
    "    m.objective = maximize(xsum(xsum(t/TIME_LEVELS * Y[i] * pi[t-1][i] for i in range(SAMPLE_AMOUNT)) for t in range(1,TIME_LEVELS+1)))\n",
    "    \n",
    "    status = m.optimize(max_seconds=300)\n",
    "    if not status == OptimizationStatus.OPTIMAL:\n",
    "        print(\"SOMETHING WRONG!\")\n",
    "        break\n",
    "\n",
    "    else:\n",
    "        t=0\n",
    "        i=0\n",
    "        for v in m.vars: \n",
    "            dual_density[t][i] = v.x\n",
    "            i+=1\n",
    "            if i == SAMPLE_AMOUNT:\n",
    "                i=0\n",
    "                t+=1\n",
    "    \n",
    "    # calculate target statistics\n",
    "    b=0\n",
    "    for t in range(1,TIME_LEVELS+1):\n",
    "        b +=  (t/TIME_LEVELS)**2 * (dual_density[t-1])\n",
    "        \n",
    "        \n",
    "        \n",
    "    S = 1/np.sqrt(SAMPLE_AMOUNT) * np.matmul(X_3and4.T,b)\n",
    "    \n",
    "    T_STAT = np.matmul(np.matmul(S.T,inv(Q)),S)/A\n",
    "    \n",
    "    collection[exp] = T_STAT\n",
    "    \n",
    "    print(time.time()-start_time)\n",
    "    print(T_STAT)\n",
    "    \n",
    "    \n",
    "    #batch += 1\n",
    "    \n",
    "    #if batch == 10:\n",
    "    #    print(\"experiment \",exp)\n",
    "    #    batch = 0"
   ]
  },
  {
   "cell_type": "code",
   "execution_count": null,
   "id": "581e07aa",
   "metadata": {},
   "outputs": [],
   "source": []
  }
 ],
 "metadata": {
  "kernelspec": {
   "display_name": "Python 3 (ipykernel)",
   "language": "python",
   "name": "python3"
  },
  "language_info": {
   "codemirror_mode": {
    "name": "ipython",
    "version": 3
   },
   "file_extension": ".py",
   "mimetype": "text/x-python",
   "name": "python",
   "nbconvert_exporter": "python",
   "pygments_lexer": "ipython3",
   "version": "3.9.7"
  }
 },
 "nbformat": 4,
 "nbformat_minor": 5
}
