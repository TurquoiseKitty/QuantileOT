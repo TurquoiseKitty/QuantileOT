{
 "cells": [
  {
   "cell_type": "markdown",
   "id": "db00fdb6",
   "metadata": {},
   "source": [
    "## The purpose is to test the asymptotic behavior. We start with one independent variable X2, and one irrevalent variable X2"
   ]
  },
  {
   "cell_type": "code",
   "execution_count": 34,
   "id": "f378b6e7",
   "metadata": {},
   "outputs": [
    {
     "name": "stdout",
     "output_type": "stream",
     "text": [
      "0.8107230566083663\n",
      "11.410287823963811\n",
      "3.905780584895153\n",
      "8.155310250273965\n",
      "0.007454399140587866\n",
      "15.522684106799288\n",
      "5.568645469421751\n",
      "2.525935665039918\n",
      "2.838684478672044\n",
      "31.679635959786108\n",
      "experiment  9\n",
      "8.95363451781847\n",
      "SOMETHING WRONG!\n"
     ]
    }
   ],
   "source": [
    "import numpy as np\n",
    "from mip import Model, xsum, minimize, maximize, OptimizationStatus\n",
    "from numpy.polynomial.polynomial import polyfit\n",
    "import matplotlib.pyplot as plt\n",
    "from numpy.linalg import inv\n",
    "import time\n",
    "\n",
    "EXP_TIMES = 1000\n",
    "TIME_LEVELS = 10\n",
    "SAMPLE_AMOUNT = 5000\n",
    "\n",
    "collection = np.zeros(EXP_TIMES)\n",
    "\n",
    "start_time = time.time()\n",
    "batch = 0\n",
    "\n",
    "for exp in range(EXP_TIMES):\n",
    "    # generate\n",
    "    X1 = np.random.uniform(-1,1,SAMPLE_AMOUNT)\n",
    "    X2 = np.random.uniform(-1,1,SAMPLE_AMOUNT)\n",
    "    X3 = np.random.uniform(-1,1,SAMPLE_AMOUNT)\n",
    "    X_2and3 = np.column_stack((X2, X3))\n",
    "    \n",
    "    EPSI = np.random.normal(0,1,SAMPLE_AMOUNT)\n",
    "    \n",
    "    Y = X1 + 2 + EPSI\n",
    "    \n",
    "    # phi(x) = x^2\n",
    "    A = 4/45\n",
    "    \n",
    "    # Q = 1/SAMPLE_AMOUNT * np.dot(X2,X2)  # which is a scalar\n",
    "    # Q = 1/3\n",
    "    Q = 1/SAMPLE_AMOUNT * np.matmul(X_2and3.T,X_2and3)\n",
    "    \n",
    "    \n",
    "    dual_density = np.zeros((TIME_LEVELS,SAMPLE_AMOUNT))\n",
    "    \n",
    "    \n",
    "    m = Model()\n",
    "    \n",
    "    pi = [[m.add_var(lb=0,name=\"pi\") for i in range(SAMPLE_AMOUNT)] for i in range(TIME_LEVELS)]\n",
    "    \n",
    "    for t in range(TIME_LEVELS):\n",
    "        m += xsum(pi[t][i] for i in range(SAMPLE_AMOUNT)) == SAMPLE_AMOUNT/TIME_LEVELS\n",
    "        m += xsum(pi[t][i]*X1[i] for i in range(SAMPLE_AMOUNT)) == xsum(X1[i] for i in range(SAMPLE_AMOUNT))/TIME_LEVELS\n",
    "        \n",
    "    for i in range(SAMPLE_AMOUNT):\n",
    "        m += xsum(pi[t][i] for t in range(TIME_LEVELS)) == 1\n",
    "        \n",
    "    m.objective = maximize(xsum(xsum(t/TIME_LEVELS * Y[i] * pi[t-1][i] for i in range(SAMPLE_AMOUNT)) for t in range(1,TIME_LEVELS+1)))\n",
    "    \n",
    "    status = m.optimize(max_seconds=300)\n",
    "    \n",
    "    if not status == OptimizationStatus.OPTIMAL:\n",
    "        print(\"SOMETHING WRONG!\")\n",
    "        break\n",
    "\n",
    "    else:\n",
    "        t=0\n",
    "        i=0\n",
    "        for v in m.vars: \n",
    "            dual_density[t][i] = v.x\n",
    "            i+=1\n",
    "            if i == SAMPLE_AMOUNT:\n",
    "                i=0\n",
    "                t+=1\n",
    "    \n",
    "    # calculate target statistics\n",
    "    \n",
    "    b=0\n",
    "    for t in range(1,TIME_LEVELS+1):\n",
    "        b +=  (t/TIME_LEVELS)**2 * (dual_density[t-1])\n",
    "        \n",
    "        \n",
    "    S = 1/np.sqrt(SAMPLE_AMOUNT) * np.matmul(X_2and3.T,b)\n",
    "    \n",
    "    T_STAT = np.matmul(np.matmul(S.T,inv(Q)),S)/A\n",
    "    \n",
    "    collection[exp] = T_STAT\n",
    "    \n",
    "    batch += 1\n",
    "    \n",
    "    if batch == 10:\n",
    "        print(\"experiment \",exp)\n",
    "        batch = 0\n"
   ]
  },
  {
   "cell_type": "code",
   "execution_count": 33,
   "id": "e1c9b8fc",
   "metadata": {},
   "outputs": [
    {
     "data": {
      "image/png": "[encoded data removed]",
      "text/plain": [
       "<Figure size 432x288 with 1 Axes>"
      ]
     },
     "metadata": {
      "needs_background": "light"
     },
     "output_type": "display_data"
    }
   ],
   "source": [
    "from scipy.stats import chi2\n",
    "\n",
    "#x-axis ranges from 0 to 20 with .001 steps\n",
    "x = np.arange(0, 10, 0.001)\n",
    "\n",
    "#plot Chi-square distribution with 4 degrees of freedom\n",
    "plt.plot(x, chi2.pdf(x, df=2))\n",
    "\n",
    "plt.show()"
   ]
  },
  {
   "cell_type": "code",
   "execution_count": null,
   "id": "652ea2f6",
   "metadata": {},
   "outputs": [],
   "source": []
  }
 ],
 "metadata": {
  "kernelspec": {
   "display_name": "Python 3",
   "language": "python",
   "name": "python3"
  },
  "language_info": {
   "codemirror_mode": {
    "name": "ipython",
    "version": 3
   },
   "file_extension": ".py",
   "mimetype": "text/x-python",
   "name": "python",
   "nbconvert_exporter": "python",
   "pygments_lexer": "ipython3",
   "version": "3.8.2"
  }
 },
 "nbformat": 4,
 "nbformat_minor": 5
}
