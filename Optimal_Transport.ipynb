{
 "cells": [
  {
   "cell_type": "markdown",
   "id": "bd7be324",
   "metadata": {},
   "source": [
    "## The purpose is to test the asymptotic behavior. We start with one independent variable X2, and one irrevalent variable X2"
   ]
  },
  {
   "cell_type": "code",
   "execution_count": null,
   "id": "39de9ee6",
   "metadata": {},
   "outputs": [],
   "source": [
    "import numpy as np\n",
    "from mip import Model, xsum, minimize, maximize, OptimizationStatus\n",
    "from numpy.polynomial.polynomial import polyfit\n",
    "import matplotlib.pyplot as plt\n",
    "from numpy.linalg import inv\n",
    "import time\n",
    "\n",
    "EXP_TIMES = 100\n",
    "TIME_LEVELS = 50\n",
    "SAMPLE_AMOUNT = 2000\n",
    "\n",
    "collection = np.zeros(EXP_TIMES)\n",
    "\n",
    "\n",
    "SAMPLE_AMOUNT = 10000\n",
    "X1 = np.random.uniform(-1,1,SAMPLE_AMOUNT)\n",
    "X2 = np.random.uniform(-1,1,SAMPLE_AMOUNT)\n",
    "\n",
    "EPSILON = np.random.uniform(0,1,SAMPLE_AMOUNT)\n",
    "\n",
    "Y = X1 + EPSILON + 2\n",
    "\n",
    "plt.plot(X2,Y,'.')"
   ]
  }
 ],
 "metadata": {
  "kernelspec": {
   "display_name": "Python 3 (ipykernel)",
   "language": "python",
   "name": "python3"
  },
  "language_info": {
   "codemirror_mode": {
    "name": "ipython",
    "version": 3
   },
   "file_extension": ".py",
   "mimetype": "text/x-python",
   "name": "python",
   "nbconvert_exporter": "python",
   "pygments_lexer": "ipython3",
   "version": "3.9.7"
  }
 },
 "nbformat": 4,
 "nbformat_minor": 5
}
